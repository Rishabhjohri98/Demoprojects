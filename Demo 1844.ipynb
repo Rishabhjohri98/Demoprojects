{
 "cells": [
  {
   "cell_type": "code",
   "execution_count": 3,
   "id": "40451807",
   "metadata": {
    "scrolled": true
   },
   "outputs": [
    {
     "name": "stdout",
     "output_type": "stream",
     "text": [
      "Hello World\n"
     ]
    }
   ],
   "source": [
    "print(\"Hello World\")"
   ]
  },
  {
   "cell_type": "code",
   "execution_count": 2,
   "id": "99c438c6",
   "metadata": {
    "scrolled": true
   },
   "outputs": [
    {
     "name": "stdout",
     "output_type": "stream",
     "text": [
      "Batch 1844\n"
     ]
    }
   ],
   "source": [
    "print(\"Batch 1844\")"
   ]
  },
  {
   "cell_type": "code",
   "execution_count": 4,
   "id": "c73c280a",
   "metadata": {},
   "outputs": [
    {
     "name": "stdout",
     "output_type": "stream",
     "text": [
      "Can u please share the watch series 7 pics\n"
     ]
    }
   ],
   "source": [
    "print(\"Can u please share the watch series 7 pics\")"
   ]
  },
  {
   "cell_type": "code",
   "execution_count": null,
   "id": "95f34046",
   "metadata": {},
   "outputs": [],
   "source": []
  }
 ],
 "metadata": {
  "kernelspec": {
   "display_name": "Python 3 (ipykernel)",
   "language": "python",
   "name": "python3"
  },
  "language_info": {
   "codemirror_mode": {
    "name": "ipython",
    "version": 3
   },
   "file_extension": ".py",
   "mimetype": "text/x-python",
   "name": "python",
   "nbconvert_exporter": "python",
   "pygments_lexer": "ipython3",
   "version": "3.9.7"
  }
 },
 "nbformat": 4,
 "nbformat_minor": 5
}
